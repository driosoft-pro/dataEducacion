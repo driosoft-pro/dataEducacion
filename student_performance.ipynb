{
 "cells": [
  {
   "cell_type": "markdown",
   "id": "97bfba62",
   "metadata": {},
   "source": [
    "# PROYECTO-3: ANALÍTICA DE DATOS CON PYTHON\n"
   ]
  },
  {
   "cell_type": "markdown",
   "id": "78cd5216",
   "metadata": {},
   "source": [
    "## Análisis del Rendimiento Académico de Estudiantes"
   ]
  },
  {
   "cell_type": "markdown",
   "id": "4a55b571",
   "metadata": {},
   "source": [
    "### 0. Import libraries"
   ]
  },
  {
   "cell_type": "code",
   "execution_count": null,
   "id": "f5aa7c8f",
   "metadata": {
    "vscode": {
     "languageId": "plaintext"
    }
   },
   "outputs": [],
   "source": [
    "# Import necessary libraries\n",
    "import pandas as pd\n",
    "import matplotlib.pyplot as plt\n",
    "import seaborn as sns\n",
    "import numpy as np\n",
    "from tabulate import tabulate\n",
    "\n",
    "# Set display options\n",
    "pd.set_option(\"display.max_rows\", None)\n",
    "pd.set_option(\"display.max_columns\", None)"
   ]
  },
  {
   "cell_type": "markdown",
   "id": "066d3d25",
   "metadata": {},
   "source": [
    "### 1. Load dataset\n"
   ]
  },
  {
   "cell_type": "markdown",
   "id": "9b1c02ee",
   "metadata": {},
   "source": [
    "    #### GoogbleColab\n"
   ]
  },
  {
   "cell_type": "code",
   "execution_count": null,
   "id": "7b35b4a2",
   "metadata": {
    "vscode": {
     "languageId": "plaintext"
    }
   },
   "outputs": [],
   "source": [
    "# Mount Google Drive\n",
    "from google.colab import drive\n",
    "drive.mount('/gdrive')"
   ]
  },
  {
   "cell_type": "markdown",
   "id": "3e50d9c0",
   "metadata": {},
   "source": [
    "    #### search for the dataset"
   ]
  },
  {
   "cell_type": "code",
   "execution_count": null,
   "id": "22f20042",
   "metadata": {
    "vscode": {
     "languageId": "plaintext"
    }
   },
   "outputs": [],
   "source": [
    "# Se va a utilizar el conjunto de datos estudiantes\n",
    "# https://www.kaggle.com/datasets/spscientist/students-performance-in-exams\n",
    "\n",
    "df = pd.read_csv('/gdrive/MyDrive/Datasets/StudentsPerformance.csv')"
   ]
  },
  {
   "cell_type": "markdown",
   "id": "842cef51",
   "metadata": {},
   "source": [
    "    ##### Locale Datasets\n"
   ]
  },
  {
   "cell_type": "code",
   "execution_count": null,
   "id": "f6d4a9d0",
   "metadata": {
    "vscode": {
     "languageId": "plaintext"
    }
   },
   "outputs": [],
   "source": [
    "# Load the dataset\n",
    "df = pd.read_csv('datasets/StudentsPerformance.csv')"
   ]
  },
  {
   "cell_type": "code",
   "execution_count": null,
   "id": "a99258f7",
   "metadata": {
    "vscode": {
     "languageId": "plaintext"
    }
   },
   "outputs": [],
   "source": [
    "# Check the shape of the dataset\n",
    "df.shape"
   ]
  },
  {
   "cell_type": "code",
   "execution_count": null,
   "id": "bb33cfc8",
   "metadata": {
    "vscode": {
     "languageId": "plaintext"
    }
   },
   "outputs": [],
   "source": [
    "# Check the information of the dataset\n",
    "df.info()"
   ]
  },
  {
   "cell_type": "code",
   "execution_count": null,
   "id": "3d869384",
   "metadata": {
    "vscode": {
     "languageId": "plaintext"
    }
   },
   "outputs": [],
   "source": [
    "# Check the filtered dataset\n",
    "df.head(10)"
   ]
  },
  {
   "cell_type": "code",
   "execution_count": null,
   "id": "252871df",
   "metadata": {
    "vscode": {
     "languageId": "plaintext"
    }
   },
   "outputs": [],
   "source": [
    "# Check the column names\n",
    "print(df.columns.tolist())"
   ]
  },
  {
   "cell_type": "markdown",
   "id": "8b3e85f6",
   "metadata": {},
   "source": [
    "## 1. ¿Cuál es la distribución de calificaciones en matemáticas, lectura y escritura entre todos los estudiantes?  "
   ]
  },
  {
   "cell_type": "markdown",
   "id": "c914908d",
   "metadata": {},
   "source": [
    "## 2. ¿Qué género obtiene en promedio mejores resultados en matemáticas, lectura y escritura?  "
   ]
  },
  {
   "cell_type": "markdown",
   "id": "3e9b7d3d",
   "metadata": {},
   "source": [
    "## 3. ¿Influye el nivel educativo de los padres en las calificaciones de los estudiantes?  \n"
   ]
  },
  {
   "cell_type": "markdown",
   "id": "e8d0292f",
   "metadata": {},
   "source": [
    "## 4. ¿Los estudiantes que completaron el curso de preparación obtienen mejores resultados?  "
   ]
  },
  {
   "cell_type": "markdown",
   "id": "ab64feb4",
   "metadata": {},
   "source": [
    "## 5. ¿Qué combinación de género y almuerzo escolar se asocia con promedios más altos o bajos?  "
   ]
  },
  {
   "cell_type": "markdown",
   "id": "b52e3b70",
   "metadata": {},
   "source": [
    "## 6. ¿Existen diferencias significativas en el rendimiento por grupo étnico?  "
   ]
  },
  {
   "cell_type": "markdown",
   "id": "601ec69d",
   "metadata": {},
   "source": [
    "## 7. ¿Cuál es la correlación entre las tres calificaciones?  "
   ]
  },
  {
   "cell_type": "markdown",
   "id": "a4823d9a",
   "metadata": {},
   "source": [
    "## 8. ¿Cuál es la calificación promedio por tipo de almuerzo (estándar vs. reducido)?  "
   ]
  },
  {
   "cell_type": "markdown",
   "id": "3abd3a1c",
   "metadata": {},
   "source": [
    "## 9. ¿Qué porcentaje de estudiantes obtuvo más de 90 puntos en las tres asignaturas?  "
   ]
  },
  {
   "cell_type": "markdown",
   "id": "d6d43b8d",
   "metadata": {},
   "source": [
    "## 10. ¿Cuál es la distribución conjunta de notas entre matemáticas y escritura (o lectura)?  "
   ]
  }
 ],
 "metadata": {
  "language_info": {
   "name": "python"
  }
 },
 "nbformat": 4,
 "nbformat_minor": 5
}
